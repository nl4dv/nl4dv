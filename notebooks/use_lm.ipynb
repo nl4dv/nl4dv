{
 "cells": [
  {
   "cell_type": "code",
   "execution_count": 1,
   "id": "1ca7af89",
   "metadata": {},
   "outputs": [],
   "source": [
    "from nl4dv import NL4DV\n",
    "from pathlib import Path"
   ]
  },
  {
   "cell_type": "code",
   "execution_count": 2,
   "id": "2b402fa0",
   "metadata": {},
   "outputs": [
    {
     "data": {
      "text/plain": [
       "PosixPath('/home/vijay/nl4dv/examples/assets/data')"
      ]
     },
     "execution_count": 2,
     "metadata": {},
     "output_type": "execute_result"
    }
   ],
   "source": [
    "data_dir = Path.cwd().parent / \"examples\" / \"assets\" / \"data\"\n",
    "housing_fp = data_dir / \"housing.csv\"\n",
    "assert housing_fp.exists(), f\"File not found: {housing_fp}\"\n",
    "data_dir"
   ]
  },
  {
   "cell_type": "code",
   "execution_count": 3,
   "id": "00726390",
   "metadata": {},
   "outputs": [],
   "source": [
    "nl4dv = NL4DV(data_url=housing_fp.as_posix(), processing_mode=\"llm\", model=\"ollama/deepseek-r1:1.5b\", api_base=\"http://localhost:11434\")"
   ]
  },
  {
   "cell_type": "code",
   "execution_count": 4,
   "id": "6eb6a003",
   "metadata": {},
   "outputs": [
    {
     "data": {
      "text/plain": [
       "{'attributeMap': {'price': {'name': 'price',\n",
       "   'queryPhrase': ['average', 'calculate', 'price'],\n",
       "   'encode': True,\n",
       "   'metric': 'attribute_exact_match',\n",
       "   'inferenceType': 'explicit',\n",
       "   'isAmbiguous': False,\n",
       "   'ambiguity': [],\n",
       "   'followupType': {'add': None}},\n",
       "  'home_type': {'name': 'home_type',\n",
       "   'queryPhrase': ['different', 'home types'],\n",
       "   'encode': True,\n",
       "   'metric': 'attribute_exact_match',\n",
       "   'inferenceType': 'explicit',\n",
       "   'isAmbiguous': False,\n",
       "   'ambiguity': [],\n",
       "   'followupType': {'add': None}}},\n",
       " 'taskMap': [{'task': 'calculate average',\n",
       "   'queryPhrase': ['average', 'calculate'],\n",
       "   'values': ['price'],\n",
       "   'attributes': ['price'],\n",
       "   'operator': 'IN'}],\n",
       " 'visType': 'None',\n",
       " 'followupType': {'add': None},\n",
       " 'dialogId': '0',\n",
       " 'queryId': '0'}"
      ]
     },
     "execution_count": 4,
     "metadata": {},
     "output_type": "execute_result"
    }
   ],
   "source": [
    "resp_1 = nl4dv.analyze_query(\"Show average prices for different home types over the years\")\n",
    "resp_1"
   ]
  }
 ],
 "metadata": {
  "kernelspec": {
   "display_name": ".venv",
   "language": "python",
   "name": "python3"
  },
  "language_info": {
   "codemirror_mode": {
    "name": "ipython",
    "version": 3
   },
   "file_extension": ".py",
   "mimetype": "text/x-python",
   "name": "python",
   "nbconvert_exporter": "python",
   "pygments_lexer": "ipython3",
   "version": "3.12.3"
  }
 },
 "nbformat": 4,
 "nbformat_minor": 5
}
